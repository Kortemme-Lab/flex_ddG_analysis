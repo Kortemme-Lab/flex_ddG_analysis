{
 "cells": [
  {
   "cell_type": "code",
   "execution_count": null,
   "id": "c15ae7d7-c1e4-43ff-94f0-1ebe5e208fcf",
   "metadata": {},
   "outputs": [],
   "source": [
    "import sqlite3\n",
    "import pandas as pd"
   ]
  },
  {
   "cell_type": "code",
   "execution_count": null,
   "id": "6a1d068e-d6eb-41c3-a609-63264870ddb5",
   "metadata": {},
   "outputs": [],
   "source": [
    "query = '''SELECT UserPPDataSetExperiment.ID AS 'DataSetID', UserPPAnalysisSet.Subset,\n",
    "UserPPDataSetExperiment.PDBFileID AS UserPPDataSetExperimentPDBFileID,\n",
    "PDBFile.Resolution,\n",
    "PPComplex.LName,\n",
    "PPComplex.RName,\n",
    "\n",
    "PPMutagenesisMutation.RecordKey AS 'Mutations',\n",
    "IFNULL(PositiveDDG.DDG, 0) - IFNULL(NegativeDDG.DDG, 0) AS ExperimentalDDG,\n",
    "PPIPDBPartnerChain.*\n",
    "\n",
    "FROM UserPPDataSetExperiment\n",
    "INNER JOIN UserPPAnalysisSet ON UserPPAnalysisSet.UserPPDataSetExperimentID=UserPPDataSetExperiment.ID\n",
    "INNER JOIN PPComplex ON PPComplex.ID=UserPPDataSetExperiment.PPComplexID\n",
    "INNER JOIN PPMutagenesis ON PPMutagenesis.ID=UserPPAnalysisSet.PPMutagenesisID\n",
    "INNER JOIN PPMutagenesisMutation ON PPMutagenesisMutation.PPMutagenesisID=PPMutagenesis.ID\n",
    "INNER JOIN PDBFile ON PDBFile.ID=UserPPDataSetExperiment.PDBFileID\n",
    "INNER JOIN PPIPDBPartnerChain ON PPIPDBPartnerChain.PPComplexID=PPComplex.ID AND PPIPDBPartnerChain.PDBFileID=UserPPDataSetExperiment.PDBFileID\n",
    "LEFT JOIN PPIDDG AS PositiveDDG ON UserPPAnalysisSet.PositiveDependentPPIDDGID=PositiveDDG.ID\n",
    "LEFT JOIN PPIDDG AS NegativeDDG ON UserPPAnalysisSet.NegativeDependentPPIDDGID=NegativeDDG.ID\n",
    "\n",
    "WHERE UserPPAnalysisSet.Subset='ZEMu';'''\n",
    "\n",
    "ddG_db = sqlite3.connect('170611-ddg_db_backup.db3')\n",
    "df = pd.read_sql_query(query, ddG_db)\n",
    "print(df['DataSetID'].nunique())\n",
    "print(len(df))\n",
    "df.head()"
   ]
  },
  {
   "cell_type": "code",
   "execution_count": null,
   "id": "8b4083d8-6f72-456b-bba2-42d2150d2280",
   "metadata": {},
   "outputs": [],
   "source": [
    "data_df = []\n",
    "for (data_set_id, pdb_id), group_df in df.groupby(['DataSetID', 'UserPPDataSetExperimentPDBFileID']):\n",
    "    # print(data_set_id, pdb_id)\n",
    "    chain_pdb_ids = group_df['PDBFileID'].drop_duplicates().values\n",
    "    try:\n",
    "        assert(len(chain_pdb_ids) == 1)\n",
    "        assert(chain_pdb_ids[0] == pdb_id)\n",
    "    except AssertionError:\n",
    "        display(group_df)\n",
    "        raise\n",
    "    mutations = ';'.join(sorted(group_df['Mutations'].drop_duplicates()))\n",
    "    l_chains = ';'.join(sorted(group_df.loc[group_df['Side'] == 'L', 'Chain'].drop_duplicates()))\n",
    "    r_chains = ';'.join(sorted(group_df.loc[group_df['Side'] == 'R', 'Chain'].drop_duplicates()))\n",
    "    data_df.append((data_set_id, pdb_id, mutations, l_chains, r_chains))\n",
    "data_df = pd.DataFrame(data_df, columns=['DataSetID', 'PDBFileID', 'Mutations', 'LChains', 'RChains'])\n",
    "print(len(data_df))\n",
    "data_df.to_csv('ZEMu_chains_to_move.csv', index=False)\n",
    "data_df.head(n=15)"
   ]
  }
 ],
 "metadata": {
  "language_info": {
   "name": "python",
   "pygments_lexer": "ipython3"
  }
 },
 "nbformat": 4,
 "nbformat_minor": 5
}
